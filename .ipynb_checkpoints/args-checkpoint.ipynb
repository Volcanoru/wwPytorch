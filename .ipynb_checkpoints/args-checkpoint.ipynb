{
 "cells": [
  {
   "cell_type": "code",
   "execution_count": null,
   "metadata": {},
   "outputs": [],
   "source": [
    "# -*- coding:utf-8 -*-\n",
    "\"\"\"\n",
    "@Time: 2022/03/01 11:52\n",
    "@Author: KI\n",
    "@File: args.py\n",
    "@Motto: Hungry And Humble\n",
    "\"\"\"\n",
    "import argparse # 设置参数的一个python包\n",
    "import torch\n",
    "\n",
    "\n",
    "def args_parser():\n",
    "    parser = argparse.ArgumentParser()\n",
    "\n",
    "    parser.add_argument('--E', type=int, default=50, help='number of rounds of training')\n",
    "    parser.add_argument('--r', type=int, default=10, help='number of communication rounds')\n",
    "    parser.add_argument('--K', type=int, default=11, help='number of total clients')\n",
    "    parser.add_argument('--input_dim', type=int, default=4, help='input dimension') #这里要根据网络结构调整\n",
    "    parser.add_argument('--lr', type=float, default=0.1, help='learning rate')\n",
    "    parser.add_argument('--C', type=float, default=1, help='sampling rate')\n",
    "    parser.add_argument('--B', type=int, default=100, help='local batch size')\n",
    "    parser.add_argument('--optimizer', type=str, default='adam', help='type of optimizer')\n",
    "    parser.add_argument('--device', default=torch.device(\"cuda\" if torch.cuda.is_available() else \"cpu\"))\n",
    "    parser.add_argument('--weight_decay', type=float, default=1e-4, help='weight_decay')\n",
    "    parser.add_argument('--step_size', type=int, default=10, help='step size')\n",
    "    parser.add_argument('--gamma', type=float, default=0.1, help='gamma')\n",
    "    clients = ['S' + str(i) for i in range(0, 20)]\n",
    "    parser.add_argument('--clients', default=clients)\n",
    "\n",
    "    args = parser.parse_args()\n",
    "\n",
    "    return args\n",
    "\n"
   ]
  }
 ],
 "metadata": {
  "kernelspec": {
   "display_name": "Python 3",
   "language": "python",
   "name": "python3"
  },
  "language_info": {
   "codemirror_mode": {
    "name": "ipython",
    "version": 3
   },
   "file_extension": ".py",
   "mimetype": "text/x-python",
   "name": "python",
   "nbconvert_exporter": "python",
   "pygments_lexer": "ipython3",
   "version": "3.7.4"
  }
 },
 "nbformat": 4,
 "nbformat_minor": 2
}
