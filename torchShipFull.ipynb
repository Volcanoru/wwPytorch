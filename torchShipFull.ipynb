{
 "cells": [
  {
   "cell_type": "code",
   "execution_count": 1,
   "metadata": {},
   "outputs": [],
   "source": [
    "import torch\n",
    "import torch.nn as nn\n",
    "import numpy as np\n",
    "from torch import optim\n",
    "from torch.autograd import Variable\n",
    "from torch.utils.data import DataLoader\n",
    "from torchvision.datasets import mnist\n",
    "from torchvision import transforms\n",
    "import matplotlib.pyplot as plt\n",
    "from torch.utils.data import Dataset\n",
    "import pandas as pd\n",
    "import torch.nn.utils.prune as prune\n",
    "from torchinfo import summary\n",
    "from torch.nn.parameter import Parameter\n",
    "import random\n",
    "import pandas as pd\n",
    "import math\n",
    "from sklearn.metrics import mean_absolute_error, mean_squared_error"
   ]
  },
  {
   "cell_type": "code",
   "execution_count": 2,
   "metadata": {
    "scrolled": true
   },
   "outputs": [
    {
     "data": {
      "text/plain": [
       "=================================================================\n",
       "Layer (type:depth-idx)                   Param #\n",
       "=================================================================\n",
       "Net                                      --\n",
       "├─Linear: 1-1                            100\n",
       "├─Sigmoid: 1-2                           --\n",
       "├─Linear: 1-3                            420\n",
       "├─Sigmoid: 1-4                           --\n",
       "├─Linear: 1-5                            420\n",
       "├─Sigmoid: 1-6                           --\n",
       "├─Linear: 1-7                            21\n",
       "=================================================================\n",
       "Total params: 961\n",
       "Trainable params: 961\n",
       "Non-trainable params: 0\n",
       "================================================================="
      ]
     },
     "execution_count": 2,
     "metadata": {},
     "output_type": "execute_result"
    }
   ],
   "source": [
    "#定义网络结构\n",
    "class Net(nn.Module):\n",
    "    def __init__(self, input, fc1, fc2, fc3, y, out):\n",
    "        super(Net, self).__init__()\n",
    "        \n",
    "        # 定义全连接层\n",
    "        self.fc1 = nn.Linear(input, fc1)\n",
    "        self.act1 = nn.Sigmoid()\n",
    "        \n",
    "        \"\"\"创建mask枝剪\n",
    "        #custom_mask = torch.randint(0, 2, size=self.fc1.weight.shape)\n",
    "        \n",
    "        custom_mask = torch.tensor([[1, 1, 0, 0],\n",
    "        [1, 0, 0, 0],\n",
    "        [1, 1, 0, 0],\n",
    "        [0, 1, 0, 0],\n",
    "        [0, 0, 1, 1],\n",
    "        [1, 0, 1, 0],\n",
    "        [1, 1, 1, 1],\n",
    "        [0, 1, 1, 0],\n",
    "        [1, 1, 0, 0],\n",
    "        [0, 0, 1, 0]])\n",
    "        print (custom_mask)\n",
    "        \n",
    "        prune.custom_from_mask(self.fc1, 'weight', mask=custom_mask)\n",
    "        \"\"\"\n",
    "\n",
    "        self.fc2 = nn.Linear(fc1, fc2)\n",
    "        self.act2 = nn.Sigmoid()\n",
    "\n",
    "        self.fc3 = nn.Linear(fc2, fc3)\n",
    "        self.act3 = nn.Sigmoid()\n",
    "\n",
    "        #self.y = nn.Linear(fc3, y)\n",
    "        \n",
    "        self.out = nn.Linear(fc3, out)\n",
    "        \n",
    "        \n",
    "        \"\"\"赋权重\n",
    "        w_init = torch.ones(self.fc4.weight.shape)\n",
    "        for i in range(len(w_init)):\n",
    "            for j in range(len(w_init[i])):\n",
    "                w_init[i][j] = float(random.randint(0, 1))\n",
    "        #w_init = torch.rand(self.fc4.weight.shape)\n",
    "        self.fc4.weight = Parameter(w_init)\n",
    "        \"\"\"\n",
    "    def forward(self, x):\n",
    "        x = self.act1(self.fc1(x))\n",
    "        x = self.act2(self.fc2(x))\n",
    "        x = self.act3(self.fc3(x))\n",
    "        #x = self.y(x)\n",
    "        x = self.out(x)\n",
    "        x = x.squeeze(-1)\n",
    "        return x \n",
    "\n",
    "# 构建网络\n",
    "net = Net(4, 20, 20, 20, 2, 1)\n",
    "\n",
    "\"\"\"\n",
    "#冻结层\n",
    "for name, param in net.named_parameters():\n",
    "    if \"y\" in name:\n",
    "        param.requires_grad = False\n",
    "\"\"\"        \n",
    "summary(net)\n",
    "#print (net.y.weight)"
   ]
  },
  {
   "cell_type": "code",
   "execution_count": 3,
   "metadata": {},
   "outputs": [],
   "source": [
    "d = pd.read_csv('./data/ship_fuel_consumption_NN_1.csv')\n",
    "d = d.dropna(axis=0,how='any')\n",
    "d.to_csv('./data/ship_fuel_consumption_NN_2.csv', index = False)"
   ]
  },
  {
   "cell_type": "code",
   "execution_count": 4,
   "metadata": {},
   "outputs": [],
   "source": [
    "class ShipDataset(Dataset):\n",
    "    \"\"\" 数据集演示 \"\"\"\n",
    "    def __init__(self, csv_file, x1, x2):\n",
    "        \"\"\"实现初始化方法，在初始化的时候将数据读载入\"\"\"\n",
    "        self.df = pd.read_csv(csv_file).iloc[x1:x2]\n",
    "        \n",
    "    def __len__(self):\n",
    "        '''\n",
    "        返回df的长度\n",
    "        '''\n",
    "        return len(self.df)\n",
    "    def __getitem__(self, idx):\n",
    "        #data = ((self.df.iloc[idx].STW, self.df.iloc[idx].avgLEVEL, self.df.iloc[idx].headwind, self.df.iloc[idx].crosswind), self.df.iloc[idx].fuelConsumption)\n",
    "        input0 = torch.tensor(np.expand_dims(self.df.iloc[idx].STW, 0))\n",
    "        input1 = torch.tensor(np.expand_dims(self.df.iloc[idx].avgLEVEL, 0))\n",
    "        input2 = torch.tensor(np.expand_dims(self.df.iloc[idx].headwind, 0))\n",
    "        input3 = torch.tensor(np.expand_dims(self.df.iloc[idx].crosswind, 0))\n",
    "        data0 = torch.cat((input0, input1, input2, input3))\n",
    "        data1 = self.df.iloc[idx].fuelConsumption\n",
    "        tup = (data0, data1)\n",
    "        return tup"
   ]
  },
  {
   "cell_type": "code",
   "execution_count": 5,
   "metadata": {},
   "outputs": [
    {
     "data": {
      "text/plain": [
       "165496"
      ]
     },
     "execution_count": 5,
     "metadata": {},
     "output_type": "execute_result"
    }
   ],
   "source": [
    "len(d)"
   ]
  },
  {
   "cell_type": "code",
   "execution_count": 6,
   "metadata": {},
   "outputs": [],
   "source": [
    "train = ShipDataset('./data/ship_fuel_consumption_NN_2.csv', 0, int(len(d)*0.8))\n",
    "test = ShipDataset('./data/ship_fuel_consumption_NN_2.csv', int(len(d)*0.8), len(d))"
   ]
  },
  {
   "cell_type": "code",
   "execution_count": 7,
   "metadata": {},
   "outputs": [
    {
     "data": {
      "text/plain": [
       "132396"
      ]
     },
     "execution_count": 7,
     "metadata": {},
     "output_type": "execute_result"
    }
   ],
   "source": [
    "len(train)"
   ]
  },
  {
   "cell_type": "code",
   "execution_count": 8,
   "metadata": {},
   "outputs": [
    {
     "data": {
      "text/plain": [
       "33100"
      ]
     },
     "execution_count": 8,
     "metadata": {},
     "output_type": "execute_result"
    }
   ],
   "source": [
    "len(test)"
   ]
  },
  {
   "cell_type": "code",
   "execution_count": 9,
   "metadata": {},
   "outputs": [],
   "source": [
    "train_data = DataLoader(train, batch_size=64, shuffle=True)\n",
    "test_data = DataLoader(test, batch_size=128, shuffle=False)"
   ]
  },
  {
   "cell_type": "code",
   "execution_count": 10,
   "metadata": {},
   "outputs": [],
   "source": [
    "# 定义损失函数--mse就是均方差\n",
    "criterion = nn.MSELoss()\n",
    "# 定义优化器---随机梯度下降\n",
    "optimizer = optim.Adam(net.parameters(), lr=1e-3, weight_decay=1e-4)"
   ]
  },
  {
   "cell_type": "code",
   "execution_count": 11,
   "metadata": {
    "scrolled": true
   },
   "outputs": [
    {
     "name": "stdout",
     "output_type": "stream",
     "text": [
      "[INFO] Epoch-1-Batch-200: Train: Loss-0.010675, mae-0.070363,  rmse-0.103320\n",
      "[INFO] Epoch-1-Batch-400: Train: Loss-0.011347, mae-0.068789,  rmse-0.106524\n",
      "[INFO] Epoch-1-Batch-600: Train: Loss-0.012397, mae-0.073972,  rmse-0.111344\n",
      "[INFO] Epoch-1-Batch-800: Train: Loss-0.016461, mae-0.084343,  rmse-0.128302\n",
      "[INFO] Epoch-1-Batch-1000: Train: Loss-0.010202, mae-0.069488,  rmse-0.101006\n",
      "[INFO] Epoch-1-Batch-1200: Train: Loss-0.011758, mae-0.076150,  rmse-0.108433\n",
      "[INFO] Epoch-1-Batch-1400: Train: Loss-0.008276, mae-0.072199,  rmse-0.090975\n",
      "[INFO] Epoch-1-Batch-1600: Train: Loss-0.009613, mae-0.068366,  rmse-0.098048\n",
      "[INFO] Epoch-1-Batch-1800: Train: Loss-0.009927, mae-0.069813,  rmse-0.099632\n",
      "[INFO] Epoch-1-Batch-2000: Train: Loss-0.009709, mae-0.066176,  rmse-0.098534\n",
      "[INFO] Epoch-2-Batch-200: Train: Loss-0.011765, mae-0.076959,  rmse-0.108467\n",
      "[INFO] Epoch-2-Batch-400: Train: Loss-0.009182, mae-0.063422,  rmse-0.095824\n",
      "[INFO] Epoch-2-Batch-600: Train: Loss-0.007499, mae-0.064319,  rmse-0.086595\n",
      "[INFO] Epoch-2-Batch-800: Train: Loss-0.012193, mae-0.076715,  rmse-0.110423\n",
      "[INFO] Epoch-2-Batch-1000: Train: Loss-0.007274, mae-0.064243,  rmse-0.085285\n",
      "[INFO] Epoch-2-Batch-1200: Train: Loss-0.006383, mae-0.052568,  rmse-0.079892\n",
      "[INFO] Epoch-2-Batch-1400: Train: Loss-0.005457, mae-0.042212,  rmse-0.073875\n",
      "[INFO] Epoch-2-Batch-1600: Train: Loss-0.002920, mae-0.039885,  rmse-0.054034\n",
      "[INFO] Epoch-2-Batch-1800: Train: Loss-0.003992, mae-0.046551,  rmse-0.063183\n",
      "[INFO] Epoch-2-Batch-2000: Train: Loss-0.007503, mae-0.055572,  rmse-0.086618\n",
      "[INFO] Epoch-3-Batch-200: Train: Loss-0.005567, mae-0.048391,  rmse-0.074612\n",
      "[INFO] Epoch-3-Batch-400: Train: Loss-0.008537, mae-0.054941,  rmse-0.092395\n",
      "[INFO] Epoch-3-Batch-600: Train: Loss-0.003550, mae-0.036535,  rmse-0.059582\n",
      "[INFO] Epoch-3-Batch-800: Train: Loss-0.005416, mae-0.050058,  rmse-0.073591\n",
      "[INFO] Epoch-3-Batch-1000: Train: Loss-0.003017, mae-0.042775,  rmse-0.054924\n",
      "[INFO] Epoch-3-Batch-1200: Train: Loss-0.006664, mae-0.053035,  rmse-0.081631\n",
      "[INFO] Epoch-3-Batch-1400: Train: Loss-0.003924, mae-0.042013,  rmse-0.062641\n",
      "[INFO] Epoch-3-Batch-1600: Train: Loss-0.009408, mae-0.066951,  rmse-0.096994\n",
      "[INFO] Epoch-3-Batch-1800: Train: Loss-0.004754, mae-0.048114,  rmse-0.068951\n",
      "[INFO] Epoch-3-Batch-2000: Train: Loss-0.007770, mae-0.058589,  rmse-0.088149\n",
      "[INFO] Epoch-4-Batch-200: Train: Loss-0.001978, mae-0.031178,  rmse-0.044480\n",
      "[INFO] Epoch-4-Batch-400: Train: Loss-0.004860, mae-0.041251,  rmse-0.069710\n",
      "[INFO] Epoch-4-Batch-600: Train: Loss-0.006982, mae-0.051107,  rmse-0.083558\n",
      "[INFO] Epoch-4-Batch-800: Train: Loss-0.001847, mae-0.029262,  rmse-0.042976\n",
      "[INFO] Epoch-4-Batch-1000: Train: Loss-0.003191, mae-0.037473,  rmse-0.056493\n",
      "[INFO] Epoch-4-Batch-1200: Train: Loss-0.003891, mae-0.043983,  rmse-0.062381\n",
      "[INFO] Epoch-4-Batch-1400: Train: Loss-0.003183, mae-0.042030,  rmse-0.056418\n",
      "[INFO] Epoch-4-Batch-1600: Train: Loss-0.001691, mae-0.033921,  rmse-0.041118\n",
      "[INFO] Epoch-4-Batch-1800: Train: Loss-0.004053, mae-0.050244,  rmse-0.063662\n",
      "[INFO] Epoch-4-Batch-2000: Train: Loss-0.005349, mae-0.049097,  rmse-0.073137\n",
      "[INFO] Epoch-5-Batch-200: Train: Loss-0.005668, mae-0.064750,  rmse-0.075287\n",
      "[INFO] Epoch-5-Batch-400: Train: Loss-0.003691, mae-0.043083,  rmse-0.060752\n",
      "[INFO] Epoch-5-Batch-600: Train: Loss-0.003993, mae-0.043459,  rmse-0.063193\n",
      "[INFO] Epoch-5-Batch-800: Train: Loss-0.007375, mae-0.055297,  rmse-0.085877\n",
      "[INFO] Epoch-5-Batch-1000: Train: Loss-0.005859, mae-0.050226,  rmse-0.076545\n",
      "[INFO] Epoch-5-Batch-1200: Train: Loss-0.005429, mae-0.047491,  rmse-0.073680\n",
      "[INFO] Epoch-5-Batch-1400: Train: Loss-0.004363, mae-0.050103,  rmse-0.066052\n",
      "[INFO] Epoch-5-Batch-1600: Train: Loss-0.006399, mae-0.050222,  rmse-0.079993\n",
      "[INFO] Epoch-5-Batch-1800: Train: Loss-0.006333, mae-0.054384,  rmse-0.079582\n",
      "[INFO] Epoch-5-Batch-2000: Train: Loss-0.006238, mae-0.050451,  rmse-0.078983\n",
      "[INFO] Epoch-5: Train: Loss-0.004904 | Test: Loss-0.005119, mae-0.111387, rmse-0.144325\n"
     ]
    }
   ],
   "source": [
    "# 开始训练\n",
    "# 记录训练损失\n",
    "losses = []\n",
    "# 记录训练精度\n",
    "acces = []\n",
    "# 记录测试损失\n",
    "eval_losses = []\n",
    "# 记录测试精度\n",
    "eval_acces = []\n",
    "# 设置迭代次数\n",
    "nums_epoch = 5\n",
    "# 设置准确度小数点\n",
    "dot = 100\n",
    "\n",
    "for epoch in range(nums_epoch):\n",
    "    train_loss = 0\n",
    "    net = net.train()\n",
    "    for batch, (input, fuel) in enumerate(train_data):    \n",
    "        input = input.to(torch.float32)\n",
    "        fuel = fuel.to(torch.float32)\n",
    "        input = input.reshape(input.size(0), -1)    #标准化\n",
    "        input = Variable(input)    #包装张量，方便反向传播\n",
    "        fuel = Variable(fuel)\n",
    "\n",
    "        # 前向传播\n",
    "        out = net(input)\n",
    "        loss = criterion(out, fuel)\n",
    "        # 反向传播\n",
    "        optimizer.zero_grad()\n",
    "        loss.backward()\n",
    "        optimizer.step()\n",
    "\n",
    "        # 记录误差\n",
    "        train_loss += loss.item()\n",
    "        # 计算分类的准确率\n",
    "        pred = out\n",
    "        mae = mean_absolute_error(fuel.detach().numpy(), pred.detach().numpy())\n",
    "        rmse = np.sqrt(mean_squared_error(fuel.detach().numpy(), pred.detach().numpy()))\n",
    "            \n",
    "\n",
    "        if (batch + 1) % 200 == 0:\n",
    "            print('[INFO] Epoch-{}-Batch-{}: Train: Loss-{:.6f}, mae-{:.6f},  rmse-{:.6f}'.format(epoch + 1,\n",
    "                                                                                 batch+1,\n",
    "                                                                                 loss.item(),\n",
    "                                                                                 mae,\n",
    "                                                                                 rmse))\n",
    "    \n",
    "\n",
    "    losses.append(train_loss / len(train_data))\n",
    "\n",
    "    eval_loss = 0\n",
    "    \n",
    "    \n",
    "# 测试集不训练\n",
    "for batch, (input, fuel) in enumerate(test_data):     \n",
    "    input = input.to(torch.float32)\n",
    "    fuel = fuel.to(torch.float32)\n",
    "    input = input.reshape(input.size(0), -1)    \n",
    "    input = Variable(input)   \n",
    "    fuel = Variable(fuel)\n",
    "\n",
    "    # 前向传播\n",
    "    out = net(input)\n",
    "    loss = criterion(out, fuel)\n",
    "    # 记录误差\n",
    "    eval_loss += loss.item()\n",
    "\n",
    "    pred = out\n",
    "    mae = mean_absolute_error(fuel.detach().numpy(), pred.detach().numpy())\n",
    "    rmse = np.sqrt(mean_squared_error(fuel.detach().numpy(), pred.detach().numpy()))\n",
    "\n",
    "eval_losses.append(eval_loss / len(test_data))\n",
    "\n",
    "print('[INFO] Epoch-{}: Train: Loss-{:.6f} | Test: Loss-{:.6f}, mae-{:.6f}, rmse-{:.6f}'.format(\n",
    "    epoch + 1, train_loss / len(train_data), eval_loss / len(test_data), mae, rmse))\n",
    "    "
   ]
  },
  {
   "cell_type": "code",
   "execution_count": 12,
   "metadata": {
    "scrolled": false
   },
   "outputs": [
    {
     "data": {
      "image/png": "[encoded data removed]",
      "text/plain": [
       "<Figure size 432x288 with 2 Axes>"
      ]
     },
     "metadata": {
      "needs_background": "light"
     },
     "output_type": "display_data"
    }
   ],
   "source": [
    "plt.figure()\n",
    "plt.suptitle('Test', fontsize=12)\n",
    "ax1 = plt.subplot(1, 2, 1)\n",
    "ax1.plot(eval_losses, color='r')\n",
    "ax1.plot(losses, color='b')\n",
    "ax1.set_title('Loss', fontsize=10, color='black')\n",
    "ax2 = plt.subplot(1, 2, 2)\n",
    "ax2.plot(eval_acces, color='r')\n",
    "ax2.plot(acces, color='b')\n",
    "ax2.set_title('Acc', fontsize=10, color='black')\n",
    "plt.show()"
   ]
  }
 ],
 "metadata": {
  "kernelspec": {
   "display_name": "Python 3",
   "language": "python",
   "name": "python3"
  },
  "language_info": {
   "codemirror_mode": {
    "name": "ipython",
    "version": 3
   },
   "file_extension": ".py",
   "mimetype": "text/x-python",
   "name": "python",
   "nbconvert_exporter": "python",
   "pygments_lexer": "ipython3",
   "version": "3.7.4"
  }
 },
 "nbformat": 4,
 "nbformat_minor": 5
}
