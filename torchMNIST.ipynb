{
 "cells": [
  {
   "cell_type": "code",
   "execution_count": 1,
   "metadata": {},
   "outputs": [],
   "source": [
    "import torch\n",
    "import torch.nn as nn\n",
    "import numpy as np\n",
    "from torch import optim\n",
    "from torch.autograd import Variable\n",
    "from torch.utils.data import DataLoader\n",
    "from torchvision.datasets import mnist\n",
    "from torchvision import transforms\n",
    "import matplotlib.pyplot as plt\n",
    "from torchinfo import summary"
   ]
  },
  {
   "cell_type": "code",
   "execution_count": 2,
   "metadata": {},
   "outputs": [
    {
     "data": {
      "text/plain": [
       "=================================================================\n",
       "Layer (type:depth-idx)                   Param #\n",
       "=================================================================\n",
       "Net                                      --\n",
       "├─Linear: 1-1                            401,920\n",
       "├─ReLU: 1-2                              --\n",
       "├─Linear: 1-3                            131,328\n",
       "├─ReLU: 1-4                              --\n",
       "├─Linear: 1-5                            32,896\n",
       "├─ReLU: 1-6                              --\n",
       "├─Linear: 1-7                            1,290\n",
       "=================================================================\n",
       "Total params: 567,434\n",
       "Trainable params: 567,434\n",
       "Non-trainable params: 0\n",
       "================================================================="
      ]
     },
     "execution_count": 2,
     "metadata": {},
     "output_type": "execute_result"
    }
   ],
   "source": [
    "#定义网络结构\n",
    "class Net(nn.Module):\n",
    "    def __init__(self, in_c, out_c):\n",
    "        super(Net, self).__init__()\n",
    "        \n",
    "        # 定义全连接层\n",
    "        self.fc1 = nn.Linear(in_c, 512)\n",
    "        # 定义激活层\n",
    "        self.act1 = nn.ReLU(inplace=True)\n",
    "\n",
    "        self.fc2 = nn.Linear(512, 256)\n",
    "        self.act2 = nn.ReLU(inplace=True)\n",
    "\n",
    "        self.fc3 = nn.Linear(256, 128)\n",
    "        self.act3 = nn.ReLU(inplace=True)\n",
    "\n",
    "        self.fc4 = nn.Linear(128, out_c)\n",
    "\n",
    "    def forward(self, x):\n",
    "        x = self.act1(self.fc1(x))\n",
    "        x = self.act2(self.fc2(x))\n",
    "        x = self.act3(self.fc3(x))\n",
    "        x = self.fc4(x)\n",
    "\n",
    "        return x \n",
    "\n",
    "# 构建网络\n",
    "net = Net(784, 10)\n",
    "summary(net)"
   ]
  },
  {
   "cell_type": "code",
   "execution_count": 3,
   "metadata": {},
   "outputs": [
    {
     "data": {
      "image/png": "[encoded data removed]",
      "text/plain": [
       "<Figure size 432x288 with 4 Axes>"
      ]
     },
     "metadata": {
      "needs_background": "light"
     },
     "output_type": "display_data"
    }
   ],
   "source": [
    "# 准备数据集\n",
    "# 训练集\n",
    "train_set = mnist.MNIST('./data', train=True, transform=transforms.ToTensor(), download=True)\n",
    "# 测试集\n",
    "test_set = mnist.MNIST('./data', train=False, transform=transforms.ToTensor(), download=True)\n",
    "# 训练集载入器\n",
    "train_data = DataLoader(train_set, batch_size=64, shuffle=True)\n",
    "# 测试集载入器\n",
    "test_data = DataLoader(test_set, batch_size=128, shuffle=False) \n",
    "\n",
    "# 可视化数据\n",
    "import random\n",
    "for i in range(4):\n",
    "    ax = plt.subplot(2, 2, i+1)\n",
    "    idx = random.randint(0, len(train_set))\n",
    "    digit_0 = train_set[idx][0].numpy()\n",
    "    digit_0_image = digit_0.reshape(28, 28)\n",
    "    ax.imshow(digit_0_image, interpolation=\"nearest\")\n",
    "    ax.set_title('label: {}'.format(train_set[idx][1]), fontsize=10, color='black')\n",
    "plt.show()"
   ]
  },
  {
   "cell_type": "code",
   "execution_count": 4,
   "metadata": {},
   "outputs": [],
   "source": [
    "# 定义损失函数--交叉熵\n",
    "criterion = nn.CrossEntropyLoss()\n",
    "\n",
    "# 定义优化器---随机梯度下降\n",
    "optimizer = optim.SGD(net.parameters(), lr=1e-2, weight_decay=5e-4)"
   ]
  },
  {
   "cell_type": "code",
   "execution_count": 5,
   "metadata": {},
   "outputs": [
    {
     "name": "stdout",
     "output_type": "stream",
     "text": [
      "[INFO] Epoch-1-Batch-200: Train: Loss-2.2793, Accuracy-0.2344\n",
      "[INFO] Epoch-1-Batch-400: Train: Loss-2.2514, Accuracy-0.5312\n",
      "[INFO] Epoch-1-Batch-600: Train: Loss-2.1626, Accuracy-0.6094\n",
      "[INFO] Epoch-1-Batch-800: Train: Loss-1.9882, Accuracy-0.4844\n",
      "[INFO] Epoch-1: Train: Loss-2.1522, Accuracy-0.4273 | Test: Loss-1.5562, Accuracy-0.6214\n",
      "[INFO] Epoch-2-Batch-200: Train: Loss-0.9383, Accuracy-0.7969\n",
      "[INFO] Epoch-2-Batch-400: Train: Loss-0.8937, Accuracy-0.7500\n",
      "[INFO] Epoch-2-Batch-600: Train: Loss-0.6831, Accuracy-0.7812\n",
      "[INFO] Epoch-2-Batch-800: Train: Loss-0.4696, Accuracy-0.8906\n",
      "[INFO] Epoch-2: Train: Loss-0.8171, Accuracy-0.7801 | Test: Loss-0.4920, Accuracy-0.8610\n"
     ]
    }
   ],
   "source": [
    "# 开始训练\n",
    "# 记录训练损失\n",
    "losses = []\n",
    "# 记录训练精度\n",
    "acces = []\n",
    "# 记录测试损失\n",
    "eval_losses = []\n",
    "# 记录测试精度\n",
    "eval_acces = []\n",
    "# 设置迭代次数\n",
    "nums_epoch = 2\n",
    "for epoch in range(nums_epoch):\n",
    "    train_loss = 0\n",
    "    train_acc = 0\n",
    "    net = net.train()\n",
    "    for batch, (img, label) in enumerate(train_data):\n",
    "        \n",
    "        img = img.reshape(img.size(0), -1)\n",
    "        img = Variable(img)\n",
    "        label = Variable(label)\n",
    "\n",
    "        # 前向传播\n",
    "        out = net(img)\n",
    "        loss = criterion(out, label)\n",
    "        # 反向传播\n",
    "        optimizer.zero_grad()\n",
    "        loss.backward()\n",
    "        optimizer.step()\n",
    "\n",
    "        # 记录误差\n",
    "        train_loss += loss.item()\n",
    "        # 计算分类的准确率\n",
    "        _, pred = out.max(1)\n",
    "        num_correct = (pred == label).sum().item()\n",
    "        acc = num_correct / img.shape[0]\n",
    "\n",
    "        if (batch + 1) % 200 == 0:\n",
    "            print('[INFO] Epoch-{}-Batch-{}: Train: Loss-{:.4f}, Accuracy-{:.4f}'.format(epoch + 1,\n",
    "                                                                                 batch+1,\n",
    "                                                                                 loss.item(),\n",
    "                                                                                 acc))\n",
    "        train_acc += acc\n",
    "\n",
    "    losses.append(train_loss / len(train_data))\n",
    "    acces.append(train_acc / len(train_data))\n",
    "\n",
    "    eval_loss = 0\n",
    "    eval_acc = 0\n",
    "    # 测试集不训练\n",
    "    for img, label in test_data:\n",
    "        img = img.reshape(img.size(0),-1)\n",
    "        img = Variable(img)\n",
    "        label = Variable(label)\n",
    "\n",
    "        out = net(img)\n",
    "        loss = criterion(out, label)\n",
    "        # 记录误差\n",
    "        eval_loss += loss.item()\n",
    "\n",
    "        _, pred = out.max(1)\n",
    "        num_correct = (pred == label).sum().item()\n",
    "        acc = num_correct / img.shape[0]\n",
    "\n",
    "        eval_acc += acc\n",
    "    eval_losses.append(eval_loss / len(test_data))\n",
    "    eval_acces.append(eval_acc / len(test_data))\n",
    "\n",
    "    print('[INFO] Epoch-{}: Train: Loss-{:.4f}, Accuracy-{:.4f} | Test: Loss-{:.4f}, Accuracy-{:.4f}'.format(\n",
    "        epoch + 1, train_loss / len(train_data), train_acc / len(train_data), eval_loss / len(test_data),\n",
    "        eval_acc / len(test_data))) "
   ]
  },
  {
   "cell_type": "code",
   "execution_count": 6,
   "metadata": {
    "scrolled": false
   },
   "outputs": [
    {
     "data": {
      "image/png": "[encoded data removed]",
      "text/plain": [
       "<Figure size 432x288 with 2 Axes>"
      ]
     },
     "metadata": {
      "needs_background": "light"
     },
     "output_type": "display_data"
    }
   ],
   "source": [
    "plt.figure()\n",
    "plt.suptitle('Test', fontsize=12)\n",
    "ax1 = plt.subplot(1, 2, 1)\n",
    "ax1.plot(eval_losses, color='r')\n",
    "ax1.plot(losses, color='b')\n",
    "ax1.set_title('Loss', fontsize=10, color='black')\n",
    "ax2 = plt.subplot(1, 2, 2)\n",
    "ax2.plot(eval_acces, color='r')\n",
    "ax2.plot(acces, color='b')\n",
    "ax2.set_title('Acc', fontsize=10, color='black')\n",
    "plt.show()"
   ]
  }
 ],
 "metadata": {
  "kernelspec": {
   "display_name": "Python 3",
   "language": "python",
   "name": "python3"
  },
  "language_info": {
   "codemirror_mode": {
    "name": "ipython",
    "version": 3
   },
   "file_extension": ".py",
   "mimetype": "text/x-python",
   "name": "python",
   "nbconvert_exporter": "python",
   "pygments_lexer": "ipython3",
   "version": "3.7.4"
  }
 },
 "nbformat": 4,
 "nbformat_minor": 5
}
